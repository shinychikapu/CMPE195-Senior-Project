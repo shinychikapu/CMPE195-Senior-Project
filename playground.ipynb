{
 "cells": [
  {
   "cell_type": "code",
   "execution_count": 1,
   "id": "c2ae4028",
   "metadata": {},
   "outputs": [],
   "source": [
    "import numpy as np\n",
    "import matplotlib.pyplot as plt"
   ]
  },
  {
   "cell_type": "code",
   "execution_count": 5,
   "id": "1ccec21d",
   "metadata": {},
   "outputs": [
    {
     "data": {
      "text/plain": [
       "((26563, 3), (249,))"
      ]
     },
     "execution_count": 5,
     "metadata": {},
     "output_type": "execute_result"
    }
   ],
   "source": [
    "# Load files\n",
    "raw_obs = np.loadtxt(r\"C:\\Users\\paulv\\Documents\\SCHOOLWORK\\CMPE 195B Senior Design Project II\\GSE63525_GM12878_primary_intrachromosomal_contact_matrices\\GM12878_primary\\1mb_resolution_intrachromosomal\\chr1\\MAPQGE30/chr1_1mb.RAWobserved\") # 2v2 matrix, value is num count\n",
    "raw_exp = np.loadtxt(r\"C:\\Users\\paulv\\Documents\\SCHOOLWORK\\CMPE 195B Senior Design Project II\\GSE63525_GM12878_primary_intrachromosomal_contact_matrices\\GM12878_primary\\1mb_resolution_intrachromosomal\\chr1\\MAPQGE30/chr1_1mb.RAWexpected\").ravel() #1d vector\n",
    "\n",
    "raw_obs.shape, raw_exp.shape"
   ]
  },
  {
   "cell_type": "code",
   "execution_count": 13,
   "id": "c0ad31e6",
   "metadata": {},
   "outputs": [
    {
     "data": {
      "text/plain": [
       "((26563,), (26563,), (26563,), 250)"
      ]
     },
     "execution_count": 13,
     "metadata": {},
     "output_type": "execute_result"
    }
   ],
   "source": [
    "bin_size = 1_000_000\n",
    "\n",
    "i = (raw_obs[:,0] // bin_size).astype(int) #bin indices\n",
    "j = (raw_obs[:,1] // bin_size).astype(int)\n",
    "v = raw_obs[:,2].astype(float)\n",
    "\n",
    "n = int(max(i.max(), j.max())) + 1   # number of bins (expect ~250 for chr1 at 1Mb)\n",
    "i.shape, j.shape, v.shape, n"
   ]
  },
  {
   "cell_type": "code",
   "execution_count": 7,
   "id": "1bceeceb",
   "metadata": {},
   "outputs": [
    {
     "data": {
      "text/plain": [
       "array([[1.29014e+05, 4.63540e+04, 4.06500e+03, ..., 1.72000e+02,\n",
       "        9.00000e+01, 1.36000e+02],\n",
       "       [4.63540e+04, 7.69174e+05, 5.92460e+04, ..., 4.70000e+02,\n",
       "        2.36000e+02, 2.68000e+02],\n",
       "       [4.06500e+03, 5.92460e+04, 7.03508e+05, ..., 5.09000e+02,\n",
       "        2.62000e+02, 1.55000e+02],\n",
       "       ...,\n",
       "       [1.72000e+02, 4.70000e+02, 5.09000e+02, ..., 5.90880e+05,\n",
       "        3.52770e+04, 8.65400e+03],\n",
       "       [9.00000e+01, 2.36000e+02, 2.62000e+02, ..., 3.52770e+04,\n",
       "        2.46512e+05, 2.76990e+04],\n",
       "       [1.36000e+02, 2.68000e+02, 1.55000e+02, ..., 8.65400e+03,\n",
       "        2.76990e+04, 1.07312e+05]], shape=(250, 250))"
      ]
     },
     "execution_count": 7,
     "metadata": {},
     "output_type": "execute_result"
    }
   ],
   "source": [
    "# Build dense with accumulation\n",
    "obs = np.zeros((n, n), dtype=float)\n",
    "np.add.at(obs, (i, j), v)\n",
    "np.add.at(obs, (j, i), v)            # symmetrize (in case file is upper-tri only)\n",
    "\n",
    "# optional: ensure diagonal present\n",
    "obs[np.arange(n), np.arange(n)] += 0\n",
    "obs"
   ]
  },
  {
   "cell_type": "code",
   "execution_count": 8,
   "id": "b6610c1d",
   "metadata": {},
   "outputs": [
    {
     "data": {
      "text/plain": [
       "array([         nan, 281994.12   ,  64373.23   ,  18104.424  ,\n",
       "        10357.301  ,   7389.737  ,   5805.942  ,   4859.497  ,\n",
       "         4246.0547 ,   3820.177  ,   3481.5405 ,   3253.6357 ,\n",
       "         3059.8591 ,   2882.885  ,   2742.5476 ,   2630.8936 ,\n",
       "         2535.0496 ,   2444.054  ,   2364.6108 ,   2268.2725 ,\n",
       "         2181.877  ,   2110.2493 ,   2045.44   ,   2004.358  ,\n",
       "         1945.6239 ,   1881.2086 ,   1837.7605 ,   1811.9805 ,\n",
       "         1785.4465 ,   1741.8208 ,   1705.2538 ,   1668.6223 ,\n",
       "         1615.6288 ,   1555.6903 ,   1508.4504 ,   1466.6456 ,\n",
       "         1428.3175 ,   1385.0204 ,   1361.2499 ,   1343.4977 ,\n",
       "         1294.964  ,   1252.6713 ,   1222.2277 ,   1209.967  ,\n",
       "         1197.1888 ,   1165.3282 ,   1132.8535 ,   1100.1016 ,\n",
       "         1071.6692 ,   1033.9835 ,   1003.30865,    976.9369 ,\n",
       "          959.652  ,    933.2144 ,    920.82324,    902.0525 ,\n",
       "          880.0685 ,    864.06165,    847.99304,    837.33966,\n",
       "          816.47516,    807.2361 ,    799.1017 ,    777.1447 ,\n",
       "          750.2951 ,    745.2456 ,    727.08624,    714.6375 ,\n",
       "          711.16565,    690.99994,    673.9474 ,    665.2829 ,\n",
       "          660.5457 ,    645.819  ,    627.4678 ,    615.6793 ,\n",
       "          604.4383 ,    577.8174 ,    564.3121 ,    544.4621 ,\n",
       "          528.50055,    515.663  ,    511.87503,    503.77905,\n",
       "          498.82175,    492.81036,    485.69254,    476.54034,\n",
       "          463.3115 ,    459.1634 ,    463.32727,    459.5949 ,\n",
       "          449.42493,    440.3716 ,    440.22668,    441.38687,\n",
       "          434.57892,    436.75308,    434.91666,    439.26468,\n",
       "          438.6795 ,    433.8053 ,    432.19742,    439.696  ,\n",
       "          436.74118,    437.52933,    436.6667 ,    432.54257,\n",
       "          424.13425,    422.70746,    422.2638 ,    422.47333,\n",
       "          428.56128,    429.61902,    430.59937,    435.0307 ,\n",
       "          432.07385,    425.5674 ,    420.33652,    416.15967,\n",
       "          411.1241 ,    404.77698,    395.46045,    401.75574,\n",
       "          399.38696,    385.8723 ,    383.08685,    382.02988,\n",
       "          393.1154 ,    400.88455,    398.26883,    382.36594,\n",
       "          382.3391 ,    401.15927,    420.0736 ,    410.6517 ,\n",
       "          387.451  ,    378.99963,    379.5373 ,    377.66394,\n",
       "          377.5148 ,    377.04037,    368.19675,    381.1963 ,\n",
       "          391.58438,    408.26645,    423.84406,    422.21478,\n",
       "          416.03278,    412.26355,    411.1439 ,    405.40356,\n",
       "          389.67258,    389.42847,    394.49692,    402.90704,\n",
       "          395.45575,    381.96054,    390.88284,    394.08194,\n",
       "          390.56253,    388.54504,    383.46698,    379.28287,\n",
       "          377.7742 ,    383.1562 ,    383.682  ,    399.8627 ,\n",
       "          405.93115,    404.86942,    418.0573 ,    443.81488,\n",
       "          449.17328,    451.8579 ,    460.22748,    472.60095,\n",
       "          456.6258 ,    460.2711 ,    458.24548,    458.1201 ,\n",
       "          470.88226,    479.8078 ,    473.84204,    459.0276 ,\n",
       "          464.5534 ,    471.09897,    462.18008,    454.6774 ,\n",
       "          465.50708,    475.27267,    498.09424,    508.9659 ,\n",
       "          524.5679 ,    529.0883 ,    542.6222 ,    534.88007,\n",
       "          516.46765,    486.5553 ,    461.02875,    454.79013,\n",
       "          453.52698,    443.2851 ,    439.9364 ,    438.57938,\n",
       "          460.16953,    478.57965,    507.38165,    515.3885 ,\n",
       "          550.173  ,    546.7425 ,    527.0451 ,    531.85187,\n",
       "          512.7359 ,    497.4041 ,    502.03235,    525.2687 ,\n",
       "          511.43225,    488.2596 ,    554.9784 ,    541.81274,\n",
       "          476.05258,    497.59174,    504.8073 ,    566.39825,\n",
       "          613.3789 ,    598.92377,    597.1602 ,    539.50256,\n",
       "          545.91046,    536.21423,    500.40723,    507.93787,\n",
       "          470.27444,    470.24976,    481.8632 ,    512.81854,\n",
       "          494.46198,    437.8632 ,    444.1289 ,    483.90152,\n",
       "          479.209  ,    485.47803,    467.82114,    492.51834,\n",
       "          535.75354,    439.10712,    424.49094,    359.3574 ,\n",
       "          291.8051 ,    318.23862])"
      ]
     },
     "execution_count": 8,
     "metadata": {},
     "output_type": "execute_result"
    }
   ],
   "source": [
    "exp_full = np.r_[np.nan, raw_exp]                     # now length should be n (=250)\n",
    "exp_full"
   ]
  },
  {
   "cell_type": "code",
   "execution_count": 9,
   "id": "f5c287b5",
   "metadata": {},
   "outputs": [
    {
     "data": {
      "text/plain": [
       "array([[  0,   1,   2, ..., 247, 248, 249],\n",
       "       [  1,   0,   1, ..., 246, 247, 248],\n",
       "       [  2,   1,   0, ..., 245, 246, 247],\n",
       "       ...,\n",
       "       [247, 246, 245, ...,   0,   1,   2],\n",
       "       [248, 247, 246, ...,   1,   0,   1],\n",
       "       [249, 248, 247, ...,   2,   1,   0]], shape=(250, 250))"
      ]
     },
     "execution_count": 9,
     "metadata": {},
     "output_type": "execute_result"
    }
   ],
   "source": [
    "# Build expected matrix by distance and compute O/E \n",
    "idx_i = np.arange(n)[:, None] # column vector\n",
    "idx_j = np.arange(n)[None, :] # row vector\n",
    "dist = np.abs(idx_i - idx_j)  # values in 0..n-1\n",
    "\n",
    "dist"
   ]
  },
  {
   "cell_type": "code",
   "execution_count": 10,
   "id": "92761f31",
   "metadata": {},
   "outputs": [
    {
     "data": {
      "text/plain": [
       "array([[         nan, 281994.12   ,  64373.23   , ...,    359.3574 ,\n",
       "           291.8051 ,    318.23862],\n",
       "       [281994.12   ,          nan, 281994.12   , ...,    424.49094,\n",
       "           359.3574 ,    291.8051 ],\n",
       "       [ 64373.23   , 281994.12   ,          nan, ...,    439.10712,\n",
       "           424.49094,    359.3574 ],\n",
       "       ...,\n",
       "       [   359.3574 ,    424.49094,    439.10712, ...,          nan,\n",
       "        281994.12   ,  64373.23   ],\n",
       "       [   291.8051 ,    359.3574 ,    424.49094, ..., 281994.12   ,\n",
       "                 nan, 281994.12   ],\n",
       "       [   318.23862,    291.8051 ,    359.3574 , ...,  64373.23   ,\n",
       "        281994.12   ,          nan]], shape=(250, 250))"
      ]
     },
     "execution_count": 10,
     "metadata": {},
     "output_type": "execute_result"
    }
   ],
   "source": [
    "exp_mat = exp_full[dist]   \n",
    "exp_mat"
   ]
  },
  {
   "cell_type": "code",
   "execution_count": 11,
   "id": "6162a22b",
   "metadata": {},
   "outputs": [
    {
     "data": {
      "text/plain": [
       "array([[       nan, 0.16437931, 0.06314737, ..., 0.47863214, 0.30842504,\n",
       "        0.42735228],\n",
       "       [0.16437931,        nan, 0.21009658, ..., 1.10720855, 0.65672781,\n",
       "        0.91842123],\n",
       "       [0.06314737, 0.21009658,        nan, ..., 1.15917045, 0.61720987,\n",
       "        0.43132547],\n",
       "       ...,\n",
       "       [0.47863214, 1.10720855, 1.15917045, ...,        nan, 0.12509835,\n",
       "        0.13443476],\n",
       "       [0.30842504, 0.65672781, 0.61720987, ..., 0.12509835,        nan,\n",
       "        0.09822545],\n",
       "       [0.42735228, 0.91842123, 0.43132547, ..., 0.13443476, 0.09822545,\n",
       "               nan]], shape=(250, 250))"
      ]
     },
     "execution_count": 11,
     "metadata": {},
     "output_type": "execute_result"
    }
   ],
   "source": [
    "OE = obs / exp_mat\n",
    "OE[~np.isfinite(OE)] = np.nan           # clean inf/NaN\n",
    "np.fill_diagonal(OE, np.nan)            # ignore self-self\n",
    "OE"
   ]
  },
  {
   "cell_type": "code",
   "execution_count": 12,
   "id": "212842e6",
   "metadata": {},
   "outputs": [
    {
     "data": {
      "text/plain": [
       "array([[0, 0, 0, ..., 0, 0, 0],\n",
       "       [0, 0, 0, ..., 0, 0, 0],\n",
       "       [0, 0, 0, ..., 0, 0, 0],\n",
       "       ...,\n",
       "       [0, 0, 0, ..., 0, 0, 0],\n",
       "       [0, 0, 0, ..., 0, 0, 0],\n",
       "       [0, 0, 0, ..., 0, 0, 0]], shape=(250, 250))"
      ]
     },
     "execution_count": 12,
     "metadata": {},
     "output_type": "execute_result"
    }
   ],
   "source": [
    "p = 95 # threshold percentile  \n",
    "tau = np.nanpercentile(OE, p) # threshold value\n",
    "A = (OE >= tau).astype(int)\n",
    "A[np.isnan(OE)] = 0\n",
    "np.fill_diagonal(A, 0)\n",
    "\n",
    "A"
   ]
  }
 ],
 "metadata": {
  "kernelspec": {
   "display_name": "venv",
   "language": "python",
   "name": "python3"
  },
  "language_info": {
   "codemirror_mode": {
    "name": "ipython",
    "version": 3
   },
   "file_extension": ".py",
   "mimetype": "text/x-python",
   "name": "python",
   "nbconvert_exporter": "python",
   "pygments_lexer": "ipython3",
   "version": "3.13.2"
  }
 },
 "nbformat": 4,
 "nbformat_minor": 5
}
