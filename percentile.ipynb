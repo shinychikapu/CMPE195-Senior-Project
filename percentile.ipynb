{
 "cells": [
  {
   "cell_type": "code",
   "execution_count": 2,
   "id": "3cbac130",
   "metadata": {},
   "outputs": [],
   "source": [
    "import json, math\n",
    "from collections import defaultdict\n",
    "import numpy as np\n",
    "import pandas as pd\n",
    "import community as community_louvain\n",
    "import networkx as nx\n",
    "import matplotlib.pyplot as plt"
   ]
  },
  {
   "cell_type": "code",
   "execution_count": 3,
   "id": "7a575283",
   "metadata": {},
   "outputs": [],
   "source": [
    "INPUT_PATH = \"MAPQGE30/chr1_1mb.RAWobserved\"  \n",
    "data = np.loadtxt(INPUT_PATH)\n",
    "if data.shape[1] < 3:\n",
    "    raise ValueError(\"Expected 3 columns (i, j, v).\")"
   ]
  },
  {
   "cell_type": "code",
   "execution_count": 5,
   "id": "6de54fed",
   "metadata": {},
   "outputs": [
    {
     "data": {
      "text/plain": [
       "2657"
      ]
     },
     "execution_count": 5,
     "metadata": {},
     "output_type": "execute_result"
    }
   ],
   "source": [
    "thresh = np.percentile(data[:,2], 90)  # 90th percentile\n",
    "filtered_indices = np.where(data[:,2] >= thresh)[0]\n",
    "filtered = data[filtered_indices]\n",
    "len(filtered)"
   ]
  },
  {
   "cell_type": "code",
   "execution_count": 7,
   "id": "65b9c512",
   "metadata": {},
   "outputs": [
    {
     "data": {
      "text/plain": [
       "(2657, 2657, 2657)"
      ]
     },
     "execution_count": 7,
     "metadata": {},
     "output_type": "execute_result"
    }
   ],
   "source": [
    "i = filtered[:, 0].astype(int)\n",
    "j = filtered[:, 1].astype(int)\n",
    "w = filtered[:, 2].astype(float)\n",
    "len(i), len(j), len(w)"
   ]
  },
  {
   "cell_type": "code",
   "execution_count": 8,
   "id": "e86c3008",
   "metadata": {},
   "outputs": [
    {
     "data": {
      "text/plain": [
       "227"
      ]
     },
     "execution_count": 8,
     "metadata": {},
     "output_type": "execute_result"
    }
   ],
   "source": [
    "nodes = defaultdict(list)\n",
    "for a, b, wt in zip(i, j, w):\n",
    "    if a == b:\n",
    "        continue  # drop self edges\n",
    "    nodes[a].append((b, wt)) #add to adjacency list\n",
    "    nodes[b].append((a, wt)) #add to adjacency list\n",
    "len(nodes) #number of nodes"
   ]
  },
  {
   "cell_type": "code",
   "execution_count": 9,
   "id": "99a7cea7",
   "metadata": {},
   "outputs": [
    {
     "data": {
      "text/plain": [
       "2429"
      ]
     },
     "execution_count": 9,
     "metadata": {},
     "output_type": "execute_result"
    }
   ],
   "source": [
    "edges = set() #only unique edges\n",
    "for source, lst in nodes.items():\n",
    "    for target, wt in lst:\n",
    "        u, v = (source, target) if source < target else (target, source)\n",
    "        edges.add((u, v))\n",
    "len(edges)"
   ]
  },
  {
   "cell_type": "code",
   "execution_count": 10,
   "id": "37c6aeb2",
   "metadata": {},
   "outputs": [
    {
     "data": {
      "text/plain": [
       "227"
      ]
     },
     "execution_count": 10,
     "metadata": {},
     "output_type": "execute_result"
    }
   ],
   "source": [
    "nodes = sorted({x for e in edges for x in e})\n",
    "len(nodes)"
   ]
  },
  {
   "cell_type": "code",
   "execution_count": 11,
   "id": "dba989df",
   "metadata": {},
   "outputs": [],
   "source": [
    "G = nx.Graph()\n",
    "G.add_edges_from([(u, v) for (u, v) in edges])"
   ]
  },
  {
   "cell_type": "code",
   "execution_count": 12,
   "id": "6b41494f",
   "metadata": {},
   "outputs": [
    {
     "data": {
      "text/plain": [
       "227"
      ]
     },
     "execution_count": 12,
     "metadata": {},
     "output_type": "execute_result"
    }
   ],
   "source": [
    "partition = community_louvain.best_partition(G)\n",
    "len(partition) #dict of node with its community id"
   ]
  },
  {
   "cell_type": "code",
   "execution_count": 13,
   "id": "f7cf2a15",
   "metadata": {},
   "outputs": [],
   "source": [
    "d3 = {\n",
    "    \"nodes\": [{\"id\": int(n), \"community\": int(partition.get(n, -1))} for n in nodes],\n",
    "    \"links\": [{\"source\": int(u), \"target\": int(v)} for (u, v) in sorted(edges)],\n",
    "}\n",
    "\n",
    "json_out = f\"percentile.json\"\n",
    "with open(json_out, \"w\") as f:\n",
    "    json.dump(d3, f)"
   ]
  }
 ],
 "metadata": {
  "kernelspec": {
   "display_name": "venv",
   "language": "python",
   "name": "python3"
  },
  "language_info": {
   "codemirror_mode": {
    "name": "ipython",
    "version": 3
   },
   "file_extension": ".py",
   "mimetype": "text/x-python",
   "name": "python",
   "nbconvert_exporter": "python",
   "pygments_lexer": "ipython3",
   "version": "3.12.0"
  }
 },
 "nbformat": 4,
 "nbformat_minor": 5
}
